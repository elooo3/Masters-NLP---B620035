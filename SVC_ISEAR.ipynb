{
  "nbformat": 4,
  "nbformat_minor": 0,
  "metadata": {
    "kernelspec": {
      "display_name": "Python 3",
      "language": "python",
      "name": "python3"
    },
    "language_info": {
      "codemirror_mode": {
        "name": "ipython",
        "version": 3
      },
      "file_extension": ".py",
      "mimetype": "text/x-python",
      "name": "python",
      "nbconvert_exporter": "python",
      "pygments_lexer": "ipython3",
      "version": "3.8.3"
    },
    "colab": {
      "name": "SVC ISEAR.ipynb",
      "provenance": [],
      "include_colab_link": true
    }
  },
  "cells": [
    {
      "cell_type": "markdown",
      "metadata": {
        "id": "view-in-github",
        "colab_type": "text"
      },
      "source": [
        "<a href=\"https://colab.research.google.com/github/elooo3/Masters-NLP---B620035/blob/main/SVC_ISEAR.ipynb\" target=\"_parent\"><img src=\"https://colab.research.google.com/assets/colab-badge.svg\" alt=\"Open In Colab\"/></a>"
      ]
    },
    {
      "cell_type": "markdown",
      "metadata": {
        "id": "1WmNkcpVovsU"
      },
      "source": [
        "## **Importing dependencies**"
      ]
    },
    {
      "cell_type": "code",
      "metadata": {
        "id": "QWkHWGJ6m_F1",
        "outputId": "d18725c3-d20d-499e-d1dd-c5a5d745aa80"
      },
      "source": [
        "# importing libraries to be used for performing set tasks\n",
        "import numpy as np\n",
        "import matplotlib.pyplot as plt\n",
        "import pandas as pd\n",
        "import re # for simplifying the reviews\n",
        "import nltk # for downloading ensemble of stop words\n",
        "nltk.download('wordnet')\n",
        "nltk.download('stopwords') # now, download stop words\n",
        "from nltk.corpus import stopwords # import stop words into notebook\n",
        "from nltk.stem.porter import PorterStemmer # import class to be used in performing stemming \n",
        "from nltk.stem import WordNetLemmatizer # import class to be used in performing lematization"
      ],
      "execution_count": null,
      "outputs": [
        {
          "name": "stderr",
          "output_type": "stream",
          "text": [
            "[nltk_data] Downloading package wordnet to\n",
            "[nltk_data]     C:\\Users\\obemb\\AppData\\Roaming\\nltk_data...\n",
            "[nltk_data]   Package wordnet is already up-to-date!\n",
            "[nltk_data] Downloading package stopwords to\n",
            "[nltk_data]     C:\\Users\\obemb\\AppData\\Roaming\\nltk_data...\n",
            "[nltk_data]   Package stopwords is already up-to-date!\n"
          ]
        }
      ]
    },
    {
      "cell_type": "code",
      "metadata": {
        "id": "SdqInv3Nm_F3"
      },
      "source": [
        "# importing dataset\n",
        "dataset = pd.read_excel('Dataset.xlsx', sheet_name = 'isear')"
      ],
      "execution_count": null,
      "outputs": []
    },
    {
      "cell_type": "code",
      "metadata": {
        "id": "ehMG4ClIm_F4"
      },
      "source": [
        "from nltk.corpus import stopwords\n",
        "\n",
        "# creating an argument that holds all stop words in english language\n",
        "stop_words = stopwords.words('english')"
      ],
      "execution_count": null,
      "outputs": []
    },
    {
      "cell_type": "markdown",
      "metadata": {
        "id": "X-vpBryNpkvi"
      },
      "source": [
        "# Text Preprocessing"
      ]
    },
    {
      "cell_type": "code",
      "metadata": {
        "id": "wgla26MCm_F4"
      },
      "source": [
        "corpus = [] # create a list which will contain all cleaned review data\n",
        "for i in range(0, 7511): # where 7511 is the number of reviews in the dataset \n",
        "#  store data in review and update after every cleaning process\n",
        "  review = re.sub('[^a-zA-Z]', ' ', dataset['Review'][i]) # re subfunction to replace any element that is not a letter with a space\n",
        "  review = review.lower() # transform all capitals to lowercase letters \n",
        "  review = review.split() # split the different elements of the reviews into different words preparing it for stemming\n",
        "  ps = PorterStemmer() # call stemming function\n",
        "  lemma = WordNetLemmatizer() #call lemmatizer function\n",
        "  all_stopwords = stopwords.words('english') # defining stop words in english\n",
        "  \n",
        "  # defining a list of words to be removed from stop word list\n",
        "  unwanted_num = {'not','is','but','why','before','again','how','more','most','no','don','will','wouldn','against','aren','couldn','didn','doesn','hadn','hasn','haven','isn','wasn','weren'}\n",
        " \n",
        "  all_stopwords = [ele for ele in all_stopwords if ele not in unwanted_num] # remove all words specified above from stop word list\n",
        "\n",
        "  review = [lemma.lemmatize(word) for word in review if not word in set(all_stopwords)] # lemmatize words in the sentences for each review\n",
        "  review = ' '.join(review) # get back original format of the review \n",
        "  corpus.append(review) # update corpus with each clean review"
      ],
      "execution_count": null,
      "outputs": []
    },
    {
      "cell_type": "markdown",
      "metadata": {
        "id": "XG-QC287rcDU"
      },
      "source": [
        "# Feature Engineering/Extraction"
      ]
    },
    {
      "cell_type": "code",
      "metadata": {
        "id": "X_wy4p60m_F5"
      },
      "source": [
        "from sklearn.feature_extraction.text import TfidfVectorizer #import tfidf vectorizer for tokenization\n",
        "\n",
        "# create instance of the count vectorizer class\n",
        "tfid = TfidfVectorizer(smooth_idf=False)\n",
        "\n",
        "X = tfid.fit_transform(corpus).toarray() # fit corpus to X \n",
        "y = dataset.loc[:, ['Label']].values # set target variable as the emotion state"
      ],
      "execution_count": null,
      "outputs": []
    },
    {
      "cell_type": "code",
      "metadata": {
        "id": "8c-E2FyWm_F6"
      },
      "source": [
        "from sklearn.model_selection import train_test_split\n",
        "X_train, X_test, y_train, y_test = train_test_split(X, y, test_size = 0.25, random_state = 0) #split dataset into training and test sets in ratio 75:25"
      ],
      "execution_count": null,
      "outputs": []
    },
    {
      "cell_type": "markdown",
      "metadata": {
        "id": "1qgh0L5fsLip"
      },
      "source": [
        "# Model fitting"
      ]
    },
    {
      "cell_type": "code",
      "metadata": {
        "id": "zdaI7fL3m_F6",
        "outputId": "c696c08e-2757-4d5f-e7da-be49e165109c"
      },
      "source": [
        "# importing necessary libraries\n",
        "from sklearn.svm import SVC \n",
        "from sklearn.model_selection import train_test_split, GridSearchCV\n",
        "from sklearn.model_selection import KFold \n",
        "from sklearn.metrics import accuracy_score, confusion_matrix, roc_curve, roc_auc_score, classification_report\n",
        "import matplotlib.pyplot as plt\n",
        "import seaborn as sns\n",
        "sns.set()\n",
        "\n",
        "#fit model on dataset using SVC\n",
        "model=SVC()\n",
        "model.fit(X_train,y_train)\n",
        "model.score(X_train,y_train)"
      ],
      "execution_count": null,
      "outputs": [
        {
          "name": "stderr",
          "output_type": "stream",
          "text": [
            "C:\\Users\\obemb\\anaconda3\\lib\\site-packages\\sklearn\\utils\\validation.py:63: DataConversionWarning: A column-vector y was passed when a 1d array was expected. Please change the shape of y to (n_samples, ), for example using ravel().\n",
            "  return f(*args, **kwargs)\n"
          ]
        },
        {
          "data": {
            "text/plain": [
              "0.9778093378306408"
            ]
          },
          "execution_count": 7,
          "metadata": {},
          "output_type": "execute_result"
        }
      ]
    },
    {
      "cell_type": "code",
      "metadata": {
        "id": "9qKpL4i-m_F6",
        "outputId": "42f213e4-9c06-4907-991a-d73d8b8b2ee4"
      },
      "source": [
        "y_hat = model.predict(X_train)\n",
        "accuracy_score(y_train, y_hat) # give accuracy score on training set"
      ],
      "execution_count": null,
      "outputs": [
        {
          "data": {
            "text/plain": [
              "0.9778093378306408"
            ]
          },
          "execution_count": 8,
          "metadata": {},
          "output_type": "execute_result"
        }
      ]
    },
    {
      "cell_type": "code",
      "metadata": {
        "id": "euvFYT_hm_F7",
        "outputId": "d0527355-f951-4825-86d8-aa998c192638"
      },
      "source": [
        "print(classification_report(y_train,y_hat)) # provide a more detailed report on training set results"
      ],
      "execution_count": null,
      "outputs": [
        {
          "name": "stdout",
          "output_type": "stream",
          "text": [
            "              precision    recall  f1-score   support\n",
            "\n",
            "           1       0.99      0.99      0.99       838\n",
            "           2       0.98      0.99      0.98       803\n",
            "           3       0.96      0.98      0.97       812\n",
            "           4       0.97      0.96      0.97       793\n",
            "           5       0.99      0.98      0.99       787\n",
            "           6       0.98      0.97      0.97       793\n",
            "           7       0.98      0.97      0.97       807\n",
            "\n",
            "    accuracy                           0.98      5633\n",
            "   macro avg       0.98      0.98      0.98      5633\n",
            "weighted avg       0.98      0.98      0.98      5633\n",
            "\n"
          ]
        }
      ]
    },
    {
      "cell_type": "code",
      "metadata": {
        "id": "Uepy3ERLm_F7",
        "outputId": "cfef9669-3048-48c9-92d4-f1c3488e4941"
      },
      "source": [
        "# test model on unseen data\n",
        "y_pred = model.predict(X_test)\n",
        "print(classification_report(y_test,y_pred))"
      ],
      "execution_count": null,
      "outputs": [
        {
          "name": "stdout",
          "output_type": "stream",
          "text": [
            "              precision    recall  f1-score   support\n",
            "\n",
            "           1       0.63      0.73      0.68       250\n",
            "           2       0.72      0.69      0.70       280\n",
            "           3       0.42      0.52      0.47       272\n",
            "           4       0.75      0.53      0.62       287\n",
            "           5       0.57      0.61      0.59       280\n",
            "           6       0.49      0.41      0.45       256\n",
            "           7       0.47      0.50      0.49       253\n",
            "\n",
            "    accuracy                           0.57      1878\n",
            "   macro avg       0.58      0.57      0.57      1878\n",
            "weighted avg       0.58      0.57      0.57      1878\n",
            "\n"
          ]
        }
      ]
    },
    {
      "cell_type": "markdown",
      "metadata": {
        "id": "IOwGbAcqtJHH"
      },
      "source": [
        "# **Hyperparameter Tuning**"
      ]
    },
    {
      "cell_type": "code",
      "metadata": {
        "id": "NggenbB3m_F8",
        "outputId": "8fad05c9-5134-4330-9374-eeb7cee13015"
      },
      "source": [
        "from sklearn.model_selection import GridSearchCV\n",
        "model = SVC()\n",
        "param_grid={'C':[0.1,1,10,50,100,500]}\n",
        "      \n",
        "gridsearch = GridSearchCV(model, param_grid,verbose=3, n_jobs = 3)\n",
        "gridsearch.fit(X_train,y_train)\n",
        "# let's see the  best parameters according to gridsearch\n",
        "gridsearch.best_params_"
      ],
      "execution_count": null,
      "outputs": [
        {
          "name": "stdout",
          "output_type": "stream",
          "text": [
            "Fitting 5 folds for each of 6 candidates, totalling 30 fits\n"
          ]
        },
        {
          "name": "stderr",
          "output_type": "stream",
          "text": [
            "C:\\Users\\obemb\\anaconda3\\lib\\site-packages\\sklearn\\utils\\validation.py:63: DataConversionWarning: A column-vector y was passed when a 1d array was expected. Please change the shape of y to (n_samples, ), for example using ravel().\n",
            "  return f(*args, **kwargs)\n"
          ]
        },
        {
          "data": {
            "text/plain": [
              "{'C': 50}"
            ]
          },
          "execution_count": 13,
          "metadata": {},
          "output_type": "execute_result"
        }
      ]
    },
    {
      "cell_type": "code",
      "metadata": {
        "id": "5Sf_quvwm_F8",
        "outputId": "43356e9f-2e79-41df-bf11-71ca13dee557"
      },
      "source": [
        "model=SVC(C = 50)\n",
        "model.fit(X_train,y_train)\n",
        "model.score(X_train,y_train)"
      ],
      "execution_count": null,
      "outputs": [
        {
          "name": "stderr",
          "output_type": "stream",
          "text": [
            "C:\\Users\\obemb\\anaconda3\\lib\\site-packages\\sklearn\\utils\\validation.py:63: DataConversionWarning: A column-vector y was passed when a 1d array was expected. Please change the shape of y to (n_samples, ), for example using ravel().\n",
            "  return f(*args, **kwargs)\n"
          ]
        },
        {
          "data": {
            "text/plain": [
              "0.9987573229185159"
            ]
          },
          "execution_count": 14,
          "metadata": {},
          "output_type": "execute_result"
        }
      ]
    },
    {
      "cell_type": "code",
      "metadata": {
        "id": "UffI5Qnqm_F8",
        "outputId": "0c4ffdfc-5a71-437b-c2d4-62fd1999df02"
      },
      "source": [
        "y_pred = model.predict(X_test)\n",
        "print(classification_report(y_test,y_pred))"
      ],
      "execution_count": null,
      "outputs": [
        {
          "name": "stdout",
          "output_type": "stream",
          "text": [
            "              precision    recall  f1-score   support\n",
            "\n",
            "           1       0.66      0.72      0.69       250\n",
            "           2       0.71      0.71      0.71       280\n",
            "           3       0.44      0.46      0.45       272\n",
            "           4       0.67      0.55      0.61       287\n",
            "           5       0.57      0.62      0.59       280\n",
            "           6       0.46      0.41      0.44       256\n",
            "           7       0.47      0.49      0.48       253\n",
            "\n",
            "    accuracy                           0.57      1878\n",
            "   macro avg       0.57      0.57      0.57      1878\n",
            "weighted avg       0.57      0.57      0.57      1878\n",
            "\n"
          ]
        }
      ]
    },
    {
      "cell_type": "code",
      "metadata": {
        "id": "5HSy6ho2m_F9",
        "outputId": "a75a13b3-378a-4bc8-fc16-134b23378ef3"
      },
      "source": [
        "model=SVC(C = 0.5)\n",
        "model.fit(X_train,y_train)\n",
        "model.score(X_train,y_train)"
      ],
      "execution_count": null,
      "outputs": [
        {
          "name": "stderr",
          "output_type": "stream",
          "text": [
            "C:\\Users\\obemb\\anaconda3\\lib\\site-packages\\sklearn\\utils\\validation.py:63: DataConversionWarning: A column-vector y was passed when a 1d array was expected. Please change the shape of y to (n_samples, ), for example using ravel().\n",
            "  return f(*args, **kwargs)\n"
          ]
        },
        {
          "data": {
            "text/plain": [
              "0.9039588141310136"
            ]
          },
          "execution_count": 17,
          "metadata": {},
          "output_type": "execute_result"
        }
      ]
    },
    {
      "cell_type": "code",
      "metadata": {
        "id": "Bdyi2PHJm_F-",
        "outputId": "665a0456-e84c-4759-f685-86298805e94b"
      },
      "source": [
        "y_pred = model.predict(X_test)\n",
        "print(classification_report(y_test,y_pred))"
      ],
      "execution_count": null,
      "outputs": [
        {
          "name": "stdout",
          "output_type": "stream",
          "text": [
            "              precision    recall  f1-score   support\n",
            "\n",
            "           1       0.64      0.72      0.68       250\n",
            "           2       0.74      0.65      0.69       280\n",
            "           3       0.35      0.68      0.46       272\n",
            "           4       0.81      0.43      0.56       287\n",
            "           5       0.57      0.61      0.59       280\n",
            "           6       0.57      0.35      0.43       256\n",
            "           7       0.49      0.42      0.45       253\n",
            "\n",
            "    accuracy                           0.55      1878\n",
            "   macro avg       0.60      0.55      0.55      1878\n",
            "weighted avg       0.60      0.55      0.55      1878\n",
            "\n"
          ]
        }
      ]
    },
    {
      "cell_type": "code",
      "metadata": {
        "id": "zdgiNwNBm_F-"
      },
      "source": [
        ""
      ],
      "execution_count": null,
      "outputs": []
    }
  ]
}