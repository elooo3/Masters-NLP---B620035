{
  "nbformat": 4,
  "nbformat_minor": 0,
  "metadata": {
    "kernelspec": {
      "display_name": "Python 3",
      "language": "python",
      "name": "python3"
    },
    "language_info": {
      "codemirror_mode": {
        "name": "ipython",
        "version": 3
      },
      "file_extension": ".py",
      "mimetype": "text/x-python",
      "name": "python",
      "nbconvert_exporter": "python",
      "pygments_lexer": "ipython3",
      "version": "3.8.3"
    },
    "colab": {
      "name": "NB ISEAR.ipynb",
      "provenance": [],
      "include_colab_link": true
    }
  },
  "cells": [
    {
      "cell_type": "markdown",
      "metadata": {
        "id": "view-in-github",
        "colab_type": "text"
      },
      "source": [
        "<a href=\"https://colab.research.google.com/github/elooo3/Masters-NLP---B620035/blob/main/NB_ISEAR.ipynb\" target=\"_parent\"><img src=\"https://colab.research.google.com/assets/colab-badge.svg\" alt=\"Open In Colab\"/></a>"
      ]
    },
    {
      "cell_type": "markdown",
      "metadata": {
        "id": "iPq-gdWht6Ms"
      },
      "source": [
        "# Importing dependencies"
      ]
    },
    {
      "cell_type": "code",
      "metadata": {
        "id": "TnlaSVW6nKQH"
      },
      "source": [
        "# importing needed libraries\n",
        "import numpy as np\n",
        "import matplotlib.pyplot as plt\n",
        "import pandas as pd"
      ],
      "execution_count": null,
      "outputs": []
    },
    {
      "cell_type": "code",
      "metadata": {
        "id": "y6j-RaIcnKQM"
      },
      "source": [
        "# importing dataset\n",
        "dataset = pd.read_excel('Dataset.xlsx', sheet_name = 'isear')"
      ],
      "execution_count": null,
      "outputs": []
    },
    {
      "cell_type": "code",
      "metadata": {
        "id": "dWzAdldZnKQR"
      },
      "source": [
        "from nltk.corpus import stopwords\n",
        "\n",
        "stop_words = stopwords.words('english')"
      ],
      "execution_count": null,
      "outputs": []
    },
    {
      "cell_type": "markdown",
      "metadata": {
        "id": "Wgfi6-wBuGPm"
      },
      "source": [
        "## **Text Preprocessing**"
      ]
    },
    {
      "cell_type": "code",
      "metadata": {
        "id": "6Y2gQMItnKQU",
        "outputId": "d8beb2d8-9551-46fa-8e6f-78270fdbd71a"
      },
      "source": [
        "# importing libraries for text preprocessing\n",
        "import re # for simplifying the reviews\n",
        "import nltk # for downloading ensemble of stop words\n",
        "nltk.download('wordnet')\n",
        "nltk.download('stopwords') # now, download stop words\n",
        "from nltk.corpus import stopwords # import stop words into notebook\n",
        "from nltk.stem.porter import PorterStemmer # import class to be used in performing stemming \n",
        "from nltk.stem import WordNetLemmatizer # import class to be used in performing lematization\n",
        "\n",
        "\n",
        "corpus = [] # create a list which will contain all cleaned review data\n",
        "\n",
        "# use a for loop to iterate through all the reviews and perform cleaning processes for each review\n",
        "# following this add the clean reviews to 'corpus' \n",
        "for i in range(0, 7511): # where 7511 is the number of reviews in the dataset \n",
        "\n",
        "#  store data in review and update after every cleaning process\n",
        "  review = re.sub('[^a-zA-Z]', ' ', dataset['Review'][i]) # re subfunction to replace any element that is not a letter with a space\n",
        "  review = review.lower() # transform all capitals to lowercase letters \n",
        "  review = review.split() # split the different elements of the reviews into different words preparing it for stemming\n",
        "  ps = PorterStemmer() # call stemming function\n",
        "  lemma = WordNetLemmatizer() #call lemmatizer function\n",
        "  all_stopwords = stopwords.words('english') # defining stop words in english\n",
        "  \n",
        "   # defining a list of words to be removed from stop word list\n",
        "  unwanted_num = {'not','is','but','why','before','again','how','more','most','no','don','will','wouldn','against','aren','couldn','didn','doesn','hadn','hasn','haven','isn','wasn','weren'}\n",
        " \n",
        "  all_stopwords = [ele for ele in all_stopwords if ele not in unwanted_num] # remove all words specified above from stop word list\n",
        "\n",
        "  review = [lemma.lemmatize(word) for word in review if not word in set(all_stopwords)] # lemmatize words in the sentences for each review\n",
        "  review = ' '.join(review) # get back original format of the review \n",
        "  corpus.append(review) # update corpus with each clean review"
      ],
      "execution_count": null,
      "outputs": [
        {
          "name": "stderr",
          "output_type": "stream",
          "text": [
            "[nltk_data] Downloading package wordnet to\n",
            "[nltk_data]     C:\\Users\\obemb\\AppData\\Roaming\\nltk_data...\n",
            "[nltk_data]   Package wordnet is already up-to-date!\n",
            "[nltk_data] Downloading package stopwords to\n",
            "[nltk_data]     C:\\Users\\obemb\\AppData\\Roaming\\nltk_data...\n",
            "[nltk_data]   Package stopwords is already up-to-date!\n"
          ]
        }
      ]
    },
    {
      "cell_type": "markdown",
      "metadata": {
        "id": "1MTwNNFbuNPe"
      },
      "source": [
        "## **Feature Engineering/Extraction**"
      ]
    },
    {
      "cell_type": "code",
      "metadata": {
        "id": "jAsuQiRgnKQa"
      },
      "source": [
        "\n",
        "from sklearn.feature_extraction.text import TfidfVectorizer #import tfidf vectorizer for tokenization\n",
        "\n",
        "# create instance of the tfidf vectorizer class\n",
        "tfid = TfidfVectorizer(smooth_idf=False)\n",
        "\n",
        "X = tfid.fit_transform(corpus).toarray() # fit corpus to X \n",
        "y = dataset.loc[:, ['Label']].values # sset target variable as the emotion states"
      ],
      "execution_count": null,
      "outputs": []
    },
    {
      "cell_type": "code",
      "metadata": {
        "id": "E7r8iLdTnKQd"
      },
      "source": [
        "from sklearn.model_selection import train_test_split\n",
        "X_train, X_test, y_train, y_test = train_test_split(X, y, test_size = 0.25, random_state = 0) #split dataset into training and test sets in ratio 75:25"
      ],
      "execution_count": null,
      "outputs": []
    },
    {
      "cell_type": "markdown",
      "metadata": {
        "id": "0372O-JBuXWV"
      },
      "source": [
        "# Model fitting and Tuning"
      ]
    },
    {
      "cell_type": "markdown",
      "metadata": {
        "id": "sctLs4nHnKQg"
      },
      "source": [
        "**Multinomial Naive Bayes**"
      ]
    },
    {
      "cell_type": "code",
      "metadata": {
        "id": "fIf9dtI5nKQk",
        "outputId": "ab283c4c-db21-4696-868a-c8c728b0f8c9"
      },
      "source": [
        "from sklearn.naive_bayes import MultinomialNB\n",
        "classifier2 = MultinomialNB()\n",
        "classifier2.fit(X_train, y_train)"
      ],
      "execution_count": null,
      "outputs": [
        {
          "name": "stderr",
          "output_type": "stream",
          "text": [
            "C:\\Users\\obemb\\anaconda3\\lib\\site-packages\\sklearn\\utils\\validation.py:63: DataConversionWarning: A column-vector y was passed when a 1d array was expected. Please change the shape of y to (n_samples, ), for example using ravel().\n",
            "  return f(*args, **kwargs)\n"
          ]
        },
        {
          "data": {
            "text/plain": [
              "MultinomialNB()"
            ]
          },
          "execution_count": 7,
          "metadata": {},
          "output_type": "execute_result"
        }
      ]
    },
    {
      "cell_type": "code",
      "metadata": {
        "id": "hzXhafcwnKQo",
        "outputId": "4e0a6a84-f23f-47e6-c04c-68adcebda041"
      },
      "source": [
        "from sklearn.metrics import confusion_matrix, accuracy_score, roc_curve, roc_auc_score\n",
        "\n",
        "#fit model on dataset using NB\n",
        "y_hat = classifier2.predict(X_train)\n",
        "\n",
        "accuracy_score(y_train, y_hat)"
      ],
      "execution_count": null,
      "outputs": [
        {
          "data": {
            "text/plain": [
              "0.8267353097816439"
            ]
          },
          "execution_count": 9,
          "metadata": {},
          "output_type": "execute_result"
        }
      ]
    },
    {
      "cell_type": "code",
      "metadata": {
        "id": "CgXt51GGnKQu",
        "outputId": "45ec4cbe-e33e-4059-9c35-df8f6a21796c"
      },
      "source": [
        "from sklearn.metrics import classification_report\n",
        "y_pred = classifier2.predict(X_test)\n",
        "print(classification_report(y_test,y_pred))"
      ],
      "execution_count": null,
      "outputs": [
        {
          "name": "stdout",
          "output_type": "stream",
          "text": [
            "              precision    recall  f1-score   support\n",
            "\n",
            "           1       0.57      0.76      0.65       250\n",
            "           2       0.70      0.72      0.71       280\n",
            "           3       0.45      0.39      0.42       272\n",
            "           4       0.62      0.59      0.60       287\n",
            "           5       0.66      0.52      0.58       280\n",
            "           6       0.44      0.40      0.42       256\n",
            "           7       0.44      0.53      0.48       253\n",
            "\n",
            "    accuracy                           0.56      1878\n",
            "   macro avg       0.56      0.56      0.55      1878\n",
            "weighted avg       0.56      0.56      0.55      1878\n",
            "\n"
          ]
        }
      ]
    },
    {
      "cell_type": "code",
      "metadata": {
        "id": "ovHWYscpnKQw",
        "outputId": "7e5c6333-6109-467f-ce65-cd75ce26236a"
      },
      "source": [
        "# Area Under Curve\n",
        "#roc auc score\n",
        "#predicting unseen data\n",
        "y_prob_pred = classifier2.predict_proba(X_test)\n",
        "roc_auc_score(y_test, y_prob_pred, multi_class='ovr', average='weighted')"
      ],
      "execution_count": null,
      "outputs": [
        {
          "data": {
            "text/plain": [
              "0.8538630838584796"
            ]
          },
          "execution_count": 12,
          "metadata": {},
          "output_type": "execute_result"
        }
      ]
    },
    {
      "cell_type": "code",
      "metadata": {
        "id": "usgKz2A2nKQz",
        "outputId": "0b260240-2709-48ba-ff10-79e0e5f54024"
      },
      "source": [
        "#k-fold cross validation\n",
        "from sklearn.model_selection import KFold \n",
        "kfold = KFold(n_splits=7)\n",
        "kfold.get_n_splits(X)"
      ],
      "execution_count": null,
      "outputs": [
        {
          "data": {
            "text/plain": [
              "7"
            ]
          },
          "execution_count": 14,
          "metadata": {},
          "output_type": "execute_result"
        }
      ]
    },
    {
      "cell_type": "code",
      "metadata": {
        "id": "Isf0QvdSnKQ1",
        "outputId": "a6eff15d-a242-48b1-f7f5-a0f11bf5ead5"
      },
      "source": [
        "# performing cross validation\n",
        "from statistics import mean\n",
        "cnt =0\n",
        "count=[]\n",
        "train_score =[]\n",
        "test_score = []\n",
        "\n",
        "for train_index,test_index in kfold.split(X):\n",
        "    X_train, X_test = X[train_index], X[test_index] # our scaled data is an array so it can work on x[value]\n",
        "    #y_train, y_test = y.iloc[train_index], y.iloc[test_index] # y is a dataframe so we have to use \"iloc\" to retreive data\n",
        "    y_train, y_test = y[train_index], y[test_index]\n",
        "    classifier2.fit(X_train,y_train)\n",
        "    train_score_ = classifier2.score(X_train,y_train)\n",
        "    test_score_ =  classifier2.score(X_test,y_test)\n",
        "    cnt+=1\n",
        "    count.append(cnt)\n",
        "    train_score.append(train_score_)\n",
        "    test_score.append(test_score_)\n",
        "    \n",
        "    print(\"for k = \", cnt)\n",
        "    print(\"train_score is :  \", train_score_, \"and test score is :  \", test_score_)\n",
        "print(\"************************************************\")\n",
        "print(\"************************************************\")\n",
        "print(\"Average train score is :  \", mean(train_score))\n",
        "print(\"Average test score is :  \", mean(test_score))"
      ],
      "execution_count": null,
      "outputs": [
        {
          "name": "stderr",
          "output_type": "stream",
          "text": [
            "C:\\Users\\obemb\\anaconda3\\lib\\site-packages\\sklearn\\utils\\validation.py:63: DataConversionWarning: A column-vector y was passed when a 1d array was expected. Please change the shape of y to (n_samples, ), for example using ravel().\n",
            "  return f(*args, **kwargs)\n"
          ]
        },
        {
          "name": "stdout",
          "output_type": "stream",
          "text": [
            "for k =  1\n",
            "train_score is :   0.811587449518484 and test score is :   0.5284249767008388\n"
          ]
        },
        {
          "name": "stderr",
          "output_type": "stream",
          "text": [
            "C:\\Users\\obemb\\anaconda3\\lib\\site-packages\\sklearn\\utils\\validation.py:63: DataConversionWarning: A column-vector y was passed when a 1d array was expected. Please change the shape of y to (n_samples, ), for example using ravel().\n",
            "  return f(*args, **kwargs)\n"
          ]
        },
        {
          "name": "stdout",
          "output_type": "stream",
          "text": [
            "for k =  2\n",
            "train_score is :   0.8039763901832867 and test score is :   0.5750232991612302\n"
          ]
        },
        {
          "name": "stderr",
          "output_type": "stream",
          "text": [
            "C:\\Users\\obemb\\anaconda3\\lib\\site-packages\\sklearn\\utils\\validation.py:63: DataConversionWarning: A column-vector y was passed when a 1d array was expected. Please change the shape of y to (n_samples, ), for example using ravel().\n",
            "  return f(*args, **kwargs)\n"
          ]
        },
        {
          "name": "stdout",
          "output_type": "stream",
          "text": [
            "for k =  3\n",
            "train_score is :   0.8027337682510096 and test score is :   0.5824790307548928\n"
          ]
        },
        {
          "name": "stderr",
          "output_type": "stream",
          "text": [
            "C:\\Users\\obemb\\anaconda3\\lib\\site-packages\\sklearn\\utils\\validation.py:63: DataConversionWarning: A column-vector y was passed when a 1d array was expected. Please change the shape of y to (n_samples, ), for example using ravel().\n",
            "  return f(*args, **kwargs)\n"
          ]
        },
        {
          "name": "stdout",
          "output_type": "stream",
          "text": [
            "for k =  4\n",
            "train_score is :   0.8122087604846225 and test score is :   0.5219012115563839\n"
          ]
        },
        {
          "name": "stderr",
          "output_type": "stream",
          "text": [
            "C:\\Users\\obemb\\anaconda3\\lib\\site-packages\\sklearn\\utils\\validation.py:63: DataConversionWarning: A column-vector y was passed when a 1d array was expected. Please change the shape of y to (n_samples, ), for example using ravel().\n",
            "  return f(*args, **kwargs)\n"
          ]
        },
        {
          "name": "stdout",
          "output_type": "stream",
          "text": [
            "for k =  5\n",
            "train_score is :   0.8216837527182355 and test score is :   0.5330848089468779\n"
          ]
        },
        {
          "name": "stderr",
          "output_type": "stream",
          "text": [
            "C:\\Users\\obemb\\anaconda3\\lib\\site-packages\\sklearn\\utils\\validation.py:63: DataConversionWarning: A column-vector y was passed when a 1d array was expected. Please change the shape of y to (n_samples, ), for example using ravel().\n",
            "  return f(*args, **kwargs)\n"
          ]
        },
        {
          "name": "stdout",
          "output_type": "stream",
          "text": [
            "for k =  6\n",
            "train_score is :   0.8053743398570985 and test score is :   0.5806150978564771\n",
            "for k =  7\n",
            "train_score is :   0.8168685927306617 and test score is :   0.53215284249767\n",
            "************************************************\n",
            "************************************************\n",
            "Average train score is :   0.810633293391914\n",
            "Average test score is :   0.5505258953534815\n"
          ]
        },
        {
          "name": "stderr",
          "output_type": "stream",
          "text": [
            "C:\\Users\\obemb\\anaconda3\\lib\\site-packages\\sklearn\\utils\\validation.py:63: DataConversionWarning: A column-vector y was passed when a 1d array was expected. Please change the shape of y to (n_samples, ), for example using ravel().\n",
            "  return f(*args, **kwargs)\n"
          ]
        }
      ]
    },
    {
      "cell_type": "markdown",
      "metadata": {
        "id": "udTI0TZLnKQ5"
      },
      "source": [
        "***Complement NB***"
      ]
    },
    {
      "cell_type": "code",
      "metadata": {
        "id": "RBAwNuQOnKQ6",
        "outputId": "9e7a5f71-1621-4c1f-baa1-d47f159184dd"
      },
      "source": [
        "from sklearn.naive_bayes import ComplementNB\n",
        "classifier3 = ComplementNB()\n",
        "classifier3.fit(X_train, y_train)\n",
        "y_hat = classifier3.predict(X_train)\n",
        "accuracy_score(y_train, y_hat)"
      ],
      "execution_count": null,
      "outputs": [
        {
          "name": "stderr",
          "output_type": "stream",
          "text": [
            "C:\\Users\\obemb\\anaconda3\\lib\\site-packages\\sklearn\\utils\\validation.py:63: DataConversionWarning: A column-vector y was passed when a 1d array was expected. Please change the shape of y to (n_samples, ), for example using ravel().\n",
            "  return f(*args, **kwargs)\n"
          ]
        },
        {
          "data": {
            "text/plain": [
              "0.8465361913637776"
            ]
          },
          "execution_count": 17,
          "metadata": {},
          "output_type": "execute_result"
        }
      ]
    },
    {
      "cell_type": "code",
      "metadata": {
        "id": "RRRfoo9ynKQ8",
        "outputId": "d8c604a5-b901-41cb-85bc-ec23c59083d9"
      },
      "source": [
        "y_pred = classifier3.predict(X_test)\n",
        "print(classification_report(y_test,y_pred))"
      ],
      "execution_count": null,
      "outputs": [
        {
          "name": "stdout",
          "output_type": "stream",
          "text": [
            "              precision    recall  f1-score   support\n",
            "\n",
            "           1       0.50      0.70      0.58       153\n",
            "           2       0.72      0.76      0.74       153\n",
            "           3       0.44      0.42      0.43       151\n",
            "           4       0.65      0.44      0.52       153\n",
            "           5       0.60      0.42      0.49       155\n",
            "           6       0.47      0.51      0.49       154\n",
            "           7       0.49      0.55      0.52       154\n",
            "\n",
            "    accuracy                           0.54      1073\n",
            "   macro avg       0.55      0.54      0.54      1073\n",
            "weighted avg       0.55      0.54      0.54      1073\n",
            "\n"
          ]
        }
      ]
    },
    {
      "cell_type": "code",
      "metadata": {
        "id": "caTNP95_nKQ-",
        "outputId": "4ea61da9-b04b-476b-96c7-676d64e4d627"
      },
      "source": [
        "from statistics import mean\n",
        "cnt =0\n",
        "count=[]\n",
        "train_score =[]\n",
        "test_score = []\n",
        "\n",
        "for train_index,test_index in kfold.split(X):\n",
        "    X_train, X_test = X[train_index], X[test_index] # our scaled data is an array so it can work on x[value]\n",
        "    #y_train, y_test = y.iloc[train_index], y.iloc[test_index] # y is a dataframe so we have to use \"iloc\" to retreive data\n",
        "    y_train, y_test = y[train_index], y[test_index]\n",
        "    classifier3.fit(X_train,y_train)\n",
        "    train_score_ = classifier3.score(X_train,y_train)\n",
        "    test_score_ =  classifier3.score(X_test,y_test)\n",
        "    cnt+=1\n",
        "    count.append(cnt)\n",
        "    train_score.append(train_score_)\n",
        "    test_score.append(test_score_)\n",
        "    \n",
        "    print(\"for k = \", cnt)\n",
        "    print(\"train_score is :  \", train_score_, \"and test score is :  \", test_score_)\n",
        "print(\"************************************************\")\n",
        "print(\"************************************************\")\n",
        "print(\"Average train score is :  \", mean(train_score))\n",
        "print(\"Average test score is :  \", mean(test_score))"
      ],
      "execution_count": null,
      "outputs": [
        {
          "name": "stderr",
          "output_type": "stream",
          "text": [
            "C:\\Users\\obemb\\anaconda3\\lib\\site-packages\\sklearn\\utils\\validation.py:63: DataConversionWarning: A column-vector y was passed when a 1d array was expected. Please change the shape of y to (n_samples, ), for example using ravel().\n",
            "  return f(*args, **kwargs)\n"
          ]
        },
        {
          "name": "stdout",
          "output_type": "stream",
          "text": [
            "for k =  1\n",
            "train_score is :   0.8365952159055607 and test score is :   0.5349487418452936\n"
          ]
        },
        {
          "name": "stderr",
          "output_type": "stream",
          "text": [
            "C:\\Users\\obemb\\anaconda3\\lib\\site-packages\\sklearn\\utils\\validation.py:63: DataConversionWarning: A column-vector y was passed when a 1d array was expected. Please change the shape of y to (n_samples, ), for example using ravel().\n",
            "  return f(*args, **kwargs)\n"
          ]
        },
        {
          "name": "stdout",
          "output_type": "stream",
          "text": [
            "for k =  2\n",
            "train_score is :   0.8342652997825412 and test score is :   0.5852749301025163\n"
          ]
        },
        {
          "name": "stderr",
          "output_type": "stream",
          "text": [
            "C:\\Users\\obemb\\anaconda3\\lib\\site-packages\\sklearn\\utils\\validation.py:63: DataConversionWarning: A column-vector y was passed when a 1d array was expected. Please change the shape of y to (n_samples, ), for example using ravel().\n",
            "  return f(*args, **kwargs)\n"
          ]
        },
        {
          "name": "stdout",
          "output_type": "stream",
          "text": [
            "for k =  3\n",
            "train_score is :   0.8292948120534327 and test score is :   0.5973904939422181\n"
          ]
        },
        {
          "name": "stderr",
          "output_type": "stream",
          "text": [
            "C:\\Users\\obemb\\anaconda3\\lib\\site-packages\\sklearn\\utils\\validation.py:63: DataConversionWarning: A column-vector y was passed when a 1d array was expected. Please change the shape of y to (n_samples, ), for example using ravel().\n",
            "  return f(*args, **kwargs)\n"
          ]
        },
        {
          "name": "stdout",
          "output_type": "stream",
          "text": [
            "for k =  4\n",
            "train_score is :   0.8404784094439267 and test score is :   0.5293569431500466\n"
          ]
        },
        {
          "name": "stderr",
          "output_type": "stream",
          "text": [
            "C:\\Users\\obemb\\anaconda3\\lib\\site-packages\\sklearn\\utils\\validation.py:63: DataConversionWarning: A column-vector y was passed when a 1d array was expected. Please change the shape of y to (n_samples, ), for example using ravel().\n",
            "  return f(*args, **kwargs)\n"
          ]
        },
        {
          "name": "stdout",
          "output_type": "stream",
          "text": [
            "for k =  5\n",
            "train_score is :   0.8435849642746195 and test score is :   0.5302889095992545\n"
          ]
        },
        {
          "name": "stderr",
          "output_type": "stream",
          "text": [
            "C:\\Users\\obemb\\anaconda3\\lib\\site-packages\\sklearn\\utils\\validation.py:63: DataConversionWarning: A column-vector y was passed when a 1d array was expected. Please change the shape of y to (n_samples, ), for example using ravel().\n",
            "  return f(*args, **kwargs)\n"
          ]
        },
        {
          "name": "stdout",
          "output_type": "stream",
          "text": [
            "for k =  6\n",
            "train_score is :   0.8341099720410066 and test score is :   0.5983224603914259\n"
          ]
        },
        {
          "name": "stderr",
          "output_type": "stream",
          "text": [
            "C:\\Users\\obemb\\anaconda3\\lib\\site-packages\\sklearn\\utils\\validation.py:63: DataConversionWarning: A column-vector y was passed when a 1d array was expected. Please change the shape of y to (n_samples, ), for example using ravel().\n",
            "  return f(*args, **kwargs)\n"
          ]
        },
        {
          "name": "stdout",
          "output_type": "stream",
          "text": [
            "for k =  7\n",
            "train_score is :   0.8465361913637776 and test score is :   0.5424044734389561\n",
            "************************************************\n",
            "************************************************\n",
            "Average train score is :   0.8378378378378378\n",
            "Average test score is :   0.5597124217813872\n"
          ]
        }
      ]
    },
    {
      "cell_type": "code",
      "metadata": {
        "id": "nO6BivUKnKRA",
        "outputId": "e8c8524a-d8c9-4c6e-e149-80f4366fde95"
      },
      "source": [
        "# let's plot the test_accuracy with the value of k in k-fold\n",
        "\n",
        "plt.plot(count,test_score)\n",
        "plt.xlabel('Value of K for k-fold')\n",
        "plt.ylabel('test accuracy')\n",
        "plt.xticks(np.arange(0, 12, 1)) \n",
        "plt.yticks(np.arange(0.65, 1, 0.05))"
      ],
      "execution_count": null,
      "outputs": [
        {
          "data": {
            "text/plain": [
              "([<matplotlib.axis.YTick at 0x25625d80e20>,\n",
              "  <matplotlib.axis.YTick at 0x25625d80a00>,\n",
              "  <matplotlib.axis.YTick at 0x25644a1a670>,\n",
              "  <matplotlib.axis.YTick at 0x25625dbbe20>,\n",
              "  <matplotlib.axis.YTick at 0x25625dbf370>,\n",
              "  <matplotlib.axis.YTick at 0x25625dbf880>,\n",
              "  <matplotlib.axis.YTick at 0x25625dbfd90>],\n",
              " <a list of 7 Text major ticklabel objects>)"
            ]
          },
          "execution_count": 21,
          "metadata": {},
          "output_type": "execute_result"
        },
        {
          "data": {
            "image/png": "[encoded data removed]",
            "text/plain": [
              "<Figure size 432x288 with 1 Axes>"
            ]
          },
          "metadata": {
            "needs_background": "light"
          },
          "output_type": "display_data"
        }
      ]
    },
    {
      "cell_type": "code",
      "metadata": {
        "id": "lf-p5zjlnKRB"
      },
      "source": [
        ""
      ],
      "execution_count": null,
      "outputs": []
    }
  ]
}